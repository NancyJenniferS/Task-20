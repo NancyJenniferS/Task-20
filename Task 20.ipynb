{
 "cells": [
  {
   "cell_type": "code",
   "execution_count": 1,
   "id": "8aa553c5",
   "metadata": {},
   "outputs": [
    {
     "name": "stdout",
     "output_type": "stream",
     "text": [
      "Window/Frame ID: CF232F011120D1F53699F60F12442BFD\n",
      "Window/Frame ID: 3EC849F4A5AF88E1ABC09F6A80A23EC9\n",
      "Window/Frame ID: 25FD4682615C6DAEC003B205AC81880A\n"
     ]
    }
   ],
   "source": [
    "from selenium import webdriver\n",
    "from selenium.webdriver.chrome.service import Service\n",
    "from selenium.webdriver.chrome.service import Service as ChromeService\n",
    "from selenium.webdriver.common.by import By\n",
    "import time\n",
    "from selenium.webdriver.support import expected_conditions as EC\n",
    "\n",
    "chrome_service = ChromeService(r\"C:\\Users\\Nancy\\OneDrive - ZF Friedrichshafen AG\\Desktop\\chromedriver.exe\")\n",
    "driver = webdriver.Chrome(service=chrome_service)\n",
    "driver.maximize_window()\n",
    "\n",
    "time.sleep(5)\n",
    "driver.implicitly_wait(10)\n",
    "#goto Cowin Website\n",
    "\n",
    "driver.get('https://www.cowin.gov.in/')\n",
    "\n",
    "#click on FAQ\n",
    "driver.implicitly_wait(10)\n",
    "driver.find_element(By.LINK_TEXT, \"FAQ\").click()\n",
    "\n",
    "time.sleep(5)\n",
    "#Click on Partners\n",
    "\n",
    "driver.find_element(By.XPATH,'//*[@id=\"navbar\"]/div[4]/div/div[1]/div/nav/div[3]/div/ul/li[5]/a').click()\n",
    "\n",
    "time.sleep(5)\n",
    "\n",
    "window_handles = driver.window_handles\n",
    "#to get the frame ID\n",
    "for handle in window_handles:\n",
    "    driver.switch_to.window(handle)\n",
    "    print(f\"Window/Frame ID: {handle}\")\n",
    "#to close the windows\n",
    "for handle in window_handles[1:]:\n",
    "    driver.switch_to.window(handle)\n",
    "    driver.close()\n",
    "# Switch to original window\n",
    "driver.switch_to.window(window_handles[0])\n",
    "\n",
    "time.sleep(3)\n",
    "\n",
    "# Close the original window\n",
    "driver.close()"
   ]
  },
  {
   "cell_type": "code",
   "execution_count": null,
   "id": "ec124da7",
   "metadata": {},
   "outputs": [],
   "source": []
  }
 ],
 "metadata": {
  "kernelspec": {
   "display_name": "Python 3 (ipykernel)",
   "language": "python",
   "name": "python3"
  },
  "language_info": {
   "codemirror_mode": {
    "name": "ipython",
    "version": 3
   },
   "file_extension": ".py",
   "mimetype": "text/x-python",
   "name": "python",
   "nbconvert_exporter": "python",
   "pygments_lexer": "ipython3",
   "version": "3.9.13"
  }
 },
 "nbformat": 4,
 "nbformat_minor": 5
}
